{
 "metadata": {
  "language_info": {
   "codemirror_mode": {
    "name": "ipython",
    "version": 3
   },
   "file_extension": ".py",
   "mimetype": "text/x-python",
   "name": "python",
   "nbconvert_exporter": "python",
   "pygments_lexer": "ipython3",
   "version": "3.7.4-final"
  },
  "orig_nbformat": 2,
  "kernelspec": {
   "name": "python3",
   "display_name": "Python 3",
   "language": "python"
  }
 },
 "nbformat": 4,
 "nbformat_minor": 2,
 "cells": [
  {
   "source": [
    "## logistic regression"
   ],
   "cell_type": "markdown",
   "metadata": {}
  },
  {
   "cell_type": "code",
   "execution_count": 17,
   "metadata": {},
   "outputs": [],
   "source": [
    "import numpy as np\n",
    "import pandas as pd \n",
    "import seaborn as sns \n",
    "import csv\n",
    "\n",
    "from sklearn.linear_model import LogisticRegression\n",
    "from sklearn.model_selection import train_test_split\n",
    "from sklearn.preprocessing import StandardScaler\n",
    "\n",
    "pd.set_option('display.max_columns', None)\n",
    "pd.set_option('display.max_rows', None)\n",
    "\n",
    "df_train = pd.read_csv('train_normalized.csv')\n",
    "df_test = pd.read_csv('test_normalized.csv')"
   ]
  },
  {
   "cell_type": "code",
   "execution_count": 18,
   "metadata": {},
   "outputs": [],
   "source": [
    "#df_train.describe()"
   ]
  },
  {
   "cell_type": "code",
   "execution_count": 19,
   "metadata": {},
   "outputs": [],
   "source": [
    "# Select the desired features\n",
    "x = df_train[[\n",
    "    'YearBuilt', 'YearRemodAdd', 'Exterior1st', 'ExterQual', 'ExterCond', 'Condition1', 'BldgType', 'HouseStyle',\n",
    "    'MSSubclass_category', 'LotArea', 'Utilities', 'Neighborhood'\n",
    "]]\n",
    "y = df_train['SalePrice']\n",
    "\n",
    "x_test = df_test[[\n",
    "    'YearBuilt', 'YearRemodAdd', 'Exterior1st', 'ExterQual', 'ExterCond', 'Condition1', 'BldgType', 'HouseStyle',\n",
    "    'MSSubclass_category', 'LotArea', 'Utilities', 'Neighborhood'\n",
    "]]\n"
   ]
  },
  {
   "cell_type": "code",
   "execution_count": 20,
   "metadata": {},
   "outputs": [],
   "source": [
    "# Perform train, test, split\n",
    "x_train, x_validation, y_train, y_validation = train_test_split(x, y, test_size=0.2)\n",
    "\n",
    "#df_result_x = pd.DataFrame()\n",
    "df_result_x_test = pd.DataFrame(data={'Id': df_test['Id'], 'SalePrice': 0})"
   ]
  },
  {
   "cell_type": "code",
   "execution_count": 21,
   "metadata": {},
   "outputs": [],
   "source": [
    "#df_result_x_test"
   ]
  },
  {
   "cell_type": "code",
   "execution_count": 22,
   "metadata": {},
   "outputs": [
    {
     "output_type": "stream",
     "name": "stdout",
     "text": [
      "0.010273972602739725\n"
     ]
    }
   ],
   "source": [
    "model = LogisticRegression(max_iter=1000)\n",
    "model.fit(x_train, y_train)\n",
    "score = model.score(x_validation, y_validation)\n",
    "print(score)"
   ]
  },
  {
   "cell_type": "code",
   "execution_count": 23,
   "metadata": {},
   "outputs": [],
   "source": [
    "model.fit(x, y)\n",
    "\n",
    "df_result_x_test['SalePrice'] = model.predict(x_test)"
   ]
  },
  {
   "cell_type": "code",
   "execution_count": 24,
   "metadata": {},
   "outputs": [],
   "source": [
    "\n",
    "df_result_x_test.to_csv('lr_submission.csv', index=False)"
   ]
  },
  {
   "cell_type": "code",
   "execution_count": null,
   "metadata": {},
   "outputs": [],
   "source": []
  }
 ]
}