{
 "metadata": {
  "language_info": {
   "codemirror_mode": {
    "name": "ipython",
    "version": 3
   },
   "file_extension": ".py",
   "mimetype": "text/x-python",
   "name": "python",
   "nbconvert_exporter": "python",
   "pygments_lexer": "ipython3",
   "version": "3.7.4-final"
  },
  "orig_nbformat": 2,
  "kernelspec": {
   "name": "python3",
   "display_name": "Python 3",
   "language": "python"
  }
 },
 "nbformat": 4,
 "nbformat_minor": 2,
 "cells": [
  {
   "cell_type": "code",
   "execution_count": 4,
   "metadata": {},
   "outputs": [
    {
     "output_type": "execute_result",
     "data": {
      "text/plain": [
       "0    CollgCr\n",
       "1    Veenker\n",
       "2    CollgCr\n",
       "3    Crawfor\n",
       "4    NoRidge\n",
       "Name: Neighborhood, dtype: object"
      ]
     },
     "metadata": {},
     "execution_count": 4
    }
   ],
   "source": [
    "import numpy as np\n",
    "import pandas as pd \n",
    "import seaborn as sns \n",
    "import csv\n",
    "\n",
    "df_train = pd.read_csv('train.csv')\n",
    "df_test = pd.read_csv('test.csv')\n",
    "\n",
    "df_train.Neighborhood.head()"
   ]
  },
  {
   "cell_type": "code",
   "execution_count": null,
   "metadata": {},
   "outputs": [],
   "source": [
    "# coding features\n",
    "\n",
    "#MSZoning\n",
    "mszoning_codes = {'A': 1, 'C': 2, 'FV': 3, 'I': 4, 'RH': 5, 'RL': 6, 'RP': 7, 'RM': 8}\n",
    "#Street\n",
    "street_codes = {'Grvl': 1, 'Pave': 2}\n",
    "#Alley\n",
    "alley_codes = {'Grvl': 1, 'Pave': 2, 'NA': 3}\n",
    "#LotShape\n",
    "lotshape_codes = {'Reg': 1, 'IR1': 2, 'IR2': 3, 'IR3': 4}\n",
    "#LandContour\n",
    "landcontour_codes = {'Lvl': 1, 'Bnk': 2, 'HLS': 3, 'Low': 4}\n",
    "#Utilities\n",
    "utilities_codes = {'AllPub': 1, 'NoSewr': 2, 'NoSeWa': 3, 'ELO': 4}\n",
    "#LotConfig\n",
    "lotconfig_codes = {'Inside': 1, 'Corner': 2, 'CulDSac': 3, 'FR2': 4, 'FR3': 5}\n",
    "#LandSlope\n",
    "landslope_codes = {'Gtl': 1, 'Mod': 2, 'Sev': 3}\n",
    "#Neighborhood\n",
    "neighborhood_codes = {\n",
    "    'Blmngtn': 1, 'Blueste': 2, 'BrDale': 3, 'BrkSide': 4, 'ClearCr': 5, 'CollgCr': 6,\n",
    "    'Crawfor': 7, 'Edwards': 8, 'Gilbert': 9, 'IDOTRR': 10, 'MeadowV': 11, 'Mitchel': 12,\n",
    "    'Names': 13, 'NoRidge': 14, 'NPkVill': 15, 'NridgHt': 16, 'NWAmes': 17, 'OldTown': 18,\n",
    "    'SWISU': 19, 'Sawyer': 20, 'SawyerW': 21, 'Somerst': 22, 'StoneBr': 23, 'Timber': 24, 'Veenker': 25\n",
    "}\n",
    "\n",
    "#Condition 1 and 2\n",
    "condition_codes = {\n",
    "    'Artery': 1, 'Feedr': 2, 'Norm': 3, 'RRNn': 4, 'RRAn': 5,\n",
    "    'PosN': 6, 'PosA': 7, 'RRNe': 8, 'RRAe': 9\n",
    "}\n",
    "\n",
    "\n",
    "\t\n",
    "\t\n",
    "\t\n",
    "\t\n",
    "\t\n",
    "\t\n",
    "\t\n",
    "\t\n",
    "\n",
    "\n",
    "\t\n",
    "\n"
   ]
  },
  {
   "cell_type": "code",
   "execution_count": null,
   "metadata": {},
   "outputs": [],
   "source": []
  }
 ]
}