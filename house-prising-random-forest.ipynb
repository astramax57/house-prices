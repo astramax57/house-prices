{
 "metadata": {
  "language_info": {
   "codemirror_mode": {
    "name": "ipython",
    "version": 3
   },
   "file_extension": ".py",
   "mimetype": "text/x-python",
   "name": "python",
   "nbconvert_exporter": "python",
   "pygments_lexer": "ipython3",
   "version": "3.7.4-final"
  },
  "orig_nbformat": 2,
  "kernelspec": {
   "name": "python3",
   "display_name": "Python 3.7.4 64-bit ('ml_common': conda)",
   "metadata": {
    "interpreter": {
     "hash": "62d83a1606262d6c61add99d30837c7ced3094adffc85cbd8650aea5b650e920"
    }
   }
  }
 },
 "nbformat": 4,
 "nbformat_minor": 2,
 "cells": [
  {
   "source": [
    "## random forest with Grid search"
   ],
   "cell_type": "markdown",
   "metadata": {}
  },
  {
   "cell_type": "code",
   "execution_count": 1,
   "metadata": {},
   "outputs": [],
   "source": [
    "import numpy as np\n",
    "import pandas as pd \n",
    "import seaborn as sns \n",
    "import csv\n",
    "\n",
    "from sklearn.ensemble import RandomForestRegressor\n",
    "from sklearn.model_selection import cross_val_score, StratifiedKFold, GridSearchCV\n",
    "\n",
    "pd.set_option('display.max_columns', None)\n",
    "pd.set_option('display.max_rows', None)\n",
    "\n",
    "df_train = pd.read_csv('train_norm_3.csv')\n",
    "df_test = pd.read_csv('test_norm_3.csv')"
   ]
  },
  {
   "cell_type": "code",
   "execution_count": 2,
   "metadata": {},
   "outputs": [],
   "source": [
    "# Select  all features, but SalePrice\n",
    "x = df_train[['OverallQual', 'GrLivArea', 'Neighborhood', 'GarageCars', 'ExterQual',\n",
    "       'TotalBsmtSF', 'YearBuilt', '2ndFlrSF', 'KitchenQual', 'BsmtFinSF1',\n",
    "       'BsmtQual', 'LotArea', 'FullBath', 'YearRemodAdd', 'MasVnrArea',\n",
    "       'LotFrontage', 'Fireplaces', 'OpenPorchSF', 'BsmtUnfSF', 'WoodDeckSF',\n",
    "       'OverallCond', 'MoSold', 'BsmtFinType1', 'BsmtExposure',\n",
    "       'Exterior1st', 'BedroomAbvGr', 'Exterior2nd', 'MSSubClass',\n",
    "       'HouseStyle', 'BsmtFullBath', 'Foundation', 'MSZoning', 'SaleCondition'\n",
    "       ]]\n",
    "\n",
    "x_test = df_test[['OverallQual', 'GrLivArea', 'Neighborhood', 'GarageCars', 'ExterQual',\n",
    "       'TotalBsmtSF', 'YearBuilt', '2ndFlrSF', 'KitchenQual', 'BsmtFinSF1',\n",
    "       'BsmtQual', 'LotArea', 'FullBath', 'YearRemodAdd', 'MasVnrArea',\n",
    "       'LotFrontage', 'Fireplaces', 'OpenPorchSF', 'BsmtUnfSF', 'WoodDeckSF',\n",
    "       'OverallCond', 'MoSold', 'BsmtFinType1', 'BsmtExposure',\n",
    "       'Exterior1st', 'BedroomAbvGr', 'Exterior2nd', 'MSSubClass',\n",
    "       'HouseStyle', 'BsmtFullBath', 'Foundation', 'MSZoning', 'SaleCondition'\n",
    "       ]]\n",
    "\n",
    "#regressor values\n",
    "#df_train['SalePrice'] = np.exp(df_train['SalePrice'])\n",
    "#df_train['SalePrice'] = df_train['SalePrice'].astype(np.int64, copy=False)\n",
    "\n",
    "y = pd.read_csv('train_norm_3.csv')['SalePrice']\n"
   ]
  },
  {
   "cell_type": "code",
   "execution_count": 3,
   "metadata": {},
   "outputs": [
    {
     "output_type": "stream",
     "name": "stdout",
     "text": [
      "CV accuracy score: 87.13%\n"
     ]
    }
   ],
   "source": [
    "# thanks to \n",
    "# https://habr.com/ru/company/ods/blog/324402/\n",
    "\n",
    "# Инициализируем страифицированную разбивку нашего датасета для валидации\n",
    "skf = StratifiedKFold(n_splits=5, shuffle=True, random_state=33)\n",
    "\n",
    "# defauly parameters model\n",
    "rfr = RandomForestRegressor(random_state=33)\n",
    "\n",
    "# Обучаем на тренировочном датасете\n",
    "results = cross_val_score(rfr, x, y, cv=skf)\n",
    "\n",
    "# Оцениваем долю верных ответов на тестовом датасете\n",
    "print(\"CV accuracy score: {:.2f}%\".format(results.mean()*100))"
   ]
  },
  {
   "cell_type": "code",
   "execution_count": 4,
   "metadata": {},
   "outputs": [],
   "source": [
    "# Perform train, test, split\n",
    "#x_train, x_validation, y_train, y_validation = train_test_split(x, y, test_size=0.2)\n",
    "\n",
    "#df_result_x = pd.DataFrame()\n",
    "df_result_x_test = pd.DataFrame(data={'Id': df_test['Id'], 'SalePrice': 0})"
   ]
  },
  {
   "cell_type": "code",
   "execution_count": 5,
   "metadata": {},
   "outputs": [],
   "source": [
    "# Инициализируем валидацию\n",
    "skf = StratifiedKFold(n_splits=5, shuffle=True, random_state=33)"
   ]
  },
  {
   "cell_type": "code",
   "execution_count": null,
   "metadata": {},
   "outputs": [],
   "source": [
    "# Создаем списки для сохранения точности на тренировочном и тестовом датасете\n",
    "'''train_acc = []\n",
    "test_acc = []\n",
    "temp_train_acc = []\n",
    "temp_test_acc = []\n",
    "trees_grid = [5, 10, 15, 20, 30, 50, 75, 100]\n",
    "\n",
    "# Обучаем на тренировочном датасете\n",
    "for ntrees in trees_grid:\n",
    "    rfr = RandomForestRegressor(n_estimators=ntrees, random_state=33, n_jobs=-1, oob_score=True)\n",
    "    temp_train_acc = []\n",
    "    temp_test_acc = []\n",
    "    for train_index, test_index in skf.split(x, y):\n",
    "        X_train, X_test = x.iloc[train_index], x.iloc[test_index]\n",
    "        y_train, y_test = y[train_index], y[test_index]\n",
    "        rfr.fit(X_train, y_train)\n",
    "        temp_train_acc.append(rfr.score(X_train, y_train))\n",
    "        temp_test_acc.append(rfr.score(X_test, y_test))\n",
    "    train_acc.append(temp_train_acc)\n",
    "    test_acc.append(temp_test_acc)\n",
    "\n",
    "train_acc, test_acc = np.asarray(train_acc), np.asarray(test_acc)\n",
    "print(\"Best accuracy on CV is {:.2f}% with {} trees\".format(max(test_acc.mean(axis=1))*100, \n",
    "                                                        trees_grid[np.argmax(test_acc.mean(axis=1))]))'''"
   ]
  },
  {
   "cell_type": "code",
   "execution_count": 6,
   "metadata": {},
   "outputs": [
    {
     "output_type": "stream",
     "name": "stdout",
     "text": [
      "Fitting 5 folds for each of 8 candidates, totalling 40 fits\n"
     ]
    },
    {
     "output_type": "execute_result",
     "data": {
      "text/plain": [
       "GridSearchCV(cv=StratifiedKFold(n_splits=5, random_state=33, shuffle=True),\n",
       "             estimator=RandomForestRegressor(n_jobs=-1, oob_score=True,\n",
       "                                             random_state=33),\n",
       "             n_jobs=-1,\n",
       "             param_grid={'max_depth': [20, 25], 'max_features': [15, 18],\n",
       "                         'n_estimators': [300, 400]},\n",
       "             verbose=1)"
      ]
     },
     "metadata": {},
     "execution_count": 6
    }
   ],
   "source": [
    "parameters = {'max_features': [15,18], 'max_depth': [20,25], 'n_estimators': [300, 400]}\n",
    "rfr = RandomForestRegressor(random_state=33, n_jobs=-1, oob_score=True)\n",
    "gcv = GridSearchCV(rfr, parameters, n_jobs=-1, cv=skf, verbose=1)\n",
    "gcv.fit(x, y)"
   ]
  },
  {
   "cell_type": "code",
   "execution_count": 7,
   "metadata": {},
   "outputs": [
    {
     "output_type": "stream",
     "name": "stdout",
     "text": [
      "Best estimator: RandomForestRegressor(max_depth=25, max_features=15, n_estimators=400,\n                      n_jobs=-1, oob_score=True, random_state=33)\nBest score: 0.8835801707836728\nBest params: {'max_depth': 25, 'max_features': 15, 'n_estimators': 400}\n"
     ]
    }
   ],
   "source": [
    "print(f'Best estimator: {gcv.best_estimator_}')\n",
    "print(f'Best score: {gcv.best_score_}')\n",
    "print(f'Best params: {gcv.best_params_}')"
   ]
  },
  {
   "cell_type": "code",
   "execution_count": 10,
   "metadata": {},
   "outputs": [],
   "source": [
    "best_rfr = RandomForestRegressor(max_depth=25, max_features=12, \n",
    "                      min_impurity_decrease=0.0, min_impurity_split=None,                      \n",
    "                      min_weight_fraction_leaf=0.0, n_estimators=400, n_jobs=-1,\n",
    "                      oob_score=True)\n",
    "best_rfr.fit(x, y)\n",
    "\n",
    "df_result_x_test['SalePrice'] = best_rfr.predict(x_test)"
   ]
  },
  {
   "cell_type": "code",
   "execution_count": 11,
   "metadata": {},
   "outputs": [],
   "source": [
    "\n",
    "#df_result_x_test['SalePrice'] = np.exp(df_result_x_test['SalePrice'])\n",
    "df_result_x_test['SalePrice'] = df_result_x_test['SalePrice'].astype(np.int64, copy=False)\n",
    "df_result_x_test.to_csv('rf_grid_submission_3.csv', index=False)"
   ]
  },
  {
   "cell_type": "code",
   "execution_count": null,
   "metadata": {},
   "outputs": [],
   "source": []
  }
 ]
}