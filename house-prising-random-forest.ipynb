{
 "metadata": {
  "language_info": {
   "codemirror_mode": {
    "name": "ipython",
    "version": 3
   },
   "file_extension": ".py",
   "mimetype": "text/x-python",
   "name": "python",
   "nbconvert_exporter": "python",
   "pygments_lexer": "ipython3",
   "version": "3.7.4-final"
  },
  "orig_nbformat": 2,
  "kernelspec": {
   "name": "python37464bitmlcommoncondadf6e485ff07d4a6ba0981cb07fca5dce",
   "display_name": "Python 3.7.4 64-bit ('ml_common': conda)",
   "language": "python"
  }
 },
 "nbformat": 4,
 "nbformat_minor": 2,
 "cells": [
  {
   "source": [
    "## random forest with Grid search"
   ],
   "cell_type": "markdown",
   "metadata": {}
  },
  {
   "cell_type": "code",
   "execution_count": 15,
   "metadata": {},
   "outputs": [],
   "source": [
    "import numpy as np\n",
    "import pandas as pd \n",
    "import seaborn as sns \n",
    "import csv\n",
    "\n",
    "from sklearn.ensemble import RandomForestRegressor\n",
    "from sklearn.model_selection import cross_val_score, StratifiedKFold, GridSearchCV\n",
    "\n",
    "pd.set_option('display.max_columns', None)\n",
    "pd.set_option('display.max_rows', None)\n",
    "\n",
    "df_train = pd.read_csv('train_normalized.csv')\n",
    "df_test = pd.read_csv('test_normalized.csv')"
   ]
  },
  {
   "cell_type": "code",
   "execution_count": 16,
   "metadata": {},
   "outputs": [],
   "source": [
    "#df_train.columns"
   ]
  },
  {
   "cell_type": "code",
   "execution_count": 17,
   "metadata": {},
   "outputs": [],
   "source": [
    "# Select  all features, but SalePrice\n",
    "x = df_train[['YearRemodAdd',\n",
    " 'Neighborhood',\n",
    " 'MasVnrType',\n",
    " 'MSSubclass_category',\n",
    " 'KitchenQual',\n",
    " 'HalfBath',\n",
    " 'GarageFinish',\n",
    " 'Foundation',\n",
    " 'Fireplaces',\n",
    " 'BsmtFinType1',\n",
    " 'BsmtExposure',\n",
    " '2ndFlrSF',\n",
    " 'YrSold',\n",
    " 'SaleCondition',\n",
    " 'PavedDrive',\n",
    " 'MSZoning',\n",
    " 'LotConfig',\n",
    " 'HouseStyle',\n",
    " 'HeatingQC',\n",
    " 'GarageYrBlt',\n",
    " 'GarageCars',\n",
    " 'FullBath',\n",
    " 'FireplaceQu',\n",
    " 'Fence',\n",
    " 'Exterior2nd',\n",
    " 'Exterior1st',\n",
    " 'Electrical',\n",
    " 'CentralAir',\n",
    " 'BsmtQual']]\n",
    "#del x['Id']\n",
    "#del x['SalePrice']\n",
    "#del x['MSSubClass']\n",
    "\n",
    "x_test = df_test[['YearRemodAdd',\n",
    " 'Neighborhood',\n",
    " 'MasVnrType',\n",
    " 'MSSubclass_category',\n",
    " 'KitchenQual',\n",
    " 'HalfBath',\n",
    " 'GarageFinish',\n",
    " 'Foundation',\n",
    " 'Fireplaces',\n",
    " 'BsmtFinType1',\n",
    " 'BsmtExposure',\n",
    " '2ndFlrSF',\n",
    " 'YrSold',\n",
    " 'SaleCondition',\n",
    " 'PavedDrive',\n",
    " 'MSZoning',\n",
    " 'LotConfig',\n",
    " 'HouseStyle',\n",
    " 'HeatingQC',\n",
    " 'GarageYrBlt',\n",
    " 'GarageCars',\n",
    " 'FullBath',\n",
    " 'FireplaceQu',\n",
    " 'Fence',\n",
    " 'Exterior2nd',\n",
    " 'Exterior1st',\n",
    " 'Electrical',\n",
    " 'CentralAir',\n",
    " 'BsmtQual']]\n",
    "\n",
    "#del x_test['Id']\n",
    "#del x_test['MSSubClass']\n",
    "\n",
    "\n",
    "#regressor values\n",
    "y = df_train['SalePrice']\n"
   ]
  },
  {
   "cell_type": "code",
   "execution_count": 18,
   "metadata": {},
   "outputs": [
    {
     "output_type": "stream",
     "name": "stdout",
     "text": [
      "CV accuracy score: 80.11%\n"
     ]
    }
   ],
   "source": [
    "# thanks to \n",
    "# https://habr.com/ru/company/ods/blog/324402/\n",
    "\n",
    "# Инициализируем страифицированную разбивку нашего датасета для валидации\n",
    "skf = StratifiedKFold(n_splits=5, shuffle=True, random_state=33)\n",
    "\n",
    "# defauly parameters model\n",
    "rfr = RandomForestRegressor(random_state=33)\n",
    "\n",
    "# Обучаем на тренировочном датасете\n",
    "results = cross_val_score(rfr, x, y, cv=skf)\n",
    "\n",
    "# Оцениваем долю верных ответов на тестовом датасете\n",
    "print(\"CV accuracy score: {:.2f}%\".format(results.mean()*100))"
   ]
  },
  {
   "cell_type": "code",
   "execution_count": 19,
   "metadata": {},
   "outputs": [],
   "source": [
    "# Perform train, test, split\n",
    "#x_train, x_validation, y_train, y_validation = train_test_split(x, y, test_size=0.2)\n",
    "\n",
    "#df_result_x = pd.DataFrame()\n",
    "df_result_x_test = pd.DataFrame(data={'Id': df_test['Id'], 'SalePrice': 0})"
   ]
  },
  {
   "cell_type": "code",
   "execution_count": 20,
   "metadata": {},
   "outputs": [],
   "source": [
    "# Инициализируем валидацию\n",
    "skf = StratifiedKFold(n_splits=5, shuffle=True, random_state=33)"
   ]
  },
  {
   "cell_type": "code",
   "execution_count": 21,
   "metadata": {},
   "outputs": [
    {
     "output_type": "execute_result",
     "data": {
      "text/plain": [
       "'train_acc = []\\ntest_acc = []\\ntemp_train_acc = []\\ntemp_test_acc = []\\ntrees_grid = [5, 10, 15, 20, 30, 50, 75, 100]\\n\\n# Обучаем на тренировочном датасете\\nfor ntrees in trees_grid:\\n    rfr = RandomForestRegressor(n_estimators=ntrees, random_state=33, n_jobs=-1, oob_score=True)\\n    temp_train_acc = []\\n    temp_test_acc = []\\n    for train_index, test_index in skf.split(x, y):\\n        X_train, X_test = x.iloc[train_index], x.iloc[test_index]\\n        y_train, y_test = y[train_index], y[test_index]\\n        rfr.fit(X_train, y_train)\\n        temp_train_acc.append(rfr.score(X_train, y_train))\\n        temp_test_acc.append(rfr.score(X_test, y_test))\\n    train_acc.append(temp_train_acc)\\n    test_acc.append(temp_test_acc)\\n\\ntrain_acc, test_acc = np.asarray(train_acc), np.asarray(test_acc)\\nprint(\"Best accuracy on CV is {:.2f}% with {} trees\".format(max(test_acc.mean(axis=1))*100, \\n                                                        trees_grid[np.argmax(test_acc.mean(axis=1))]))'"
      ]
     },
     "metadata": {},
     "execution_count": 21
    }
   ],
   "source": [
    "# Создаем списки для сохранения точности на тренировочном и тестовом датасете\n",
    "'''train_acc = []\n",
    "test_acc = []\n",
    "temp_train_acc = []\n",
    "temp_test_acc = []\n",
    "trees_grid = [5, 10, 15, 20, 30, 50, 75, 100]\n",
    "\n",
    "# Обучаем на тренировочном датасете\n",
    "for ntrees in trees_grid:\n",
    "    rfr = RandomForestRegressor(n_estimators=ntrees, random_state=33, n_jobs=-1, oob_score=True)\n",
    "    temp_train_acc = []\n",
    "    temp_test_acc = []\n",
    "    for train_index, test_index in skf.split(x, y):\n",
    "        X_train, X_test = x.iloc[train_index], x.iloc[test_index]\n",
    "        y_train, y_test = y[train_index], y[test_index]\n",
    "        rfr.fit(X_train, y_train)\n",
    "        temp_train_acc.append(rfr.score(X_train, y_train))\n",
    "        temp_test_acc.append(rfr.score(X_test, y_test))\n",
    "    train_acc.append(temp_train_acc)\n",
    "    test_acc.append(temp_test_acc)\n",
    "\n",
    "train_acc, test_acc = np.asarray(train_acc), np.asarray(test_acc)\n",
    "print(\"Best accuracy on CV is {:.2f}% with {} trees\".format(max(test_acc.mean(axis=1))*100, \n",
    "                                                        trees_grid[np.argmax(test_acc.mean(axis=1))]))'''"
   ]
  },
  {
   "cell_type": "code",
   "execution_count": 24,
   "metadata": {},
   "outputs": [
    {
     "output_type": "stream",
     "name": "stdout",
     "text": [
      "Fitting 5 folds for each of 18 candidates, totalling 90 fits\n",
      "[Parallel(n_jobs=-1)]: Using backend LokyBackend with 8 concurrent workers.\n",
      "[Parallel(n_jobs=-1)]: Done  34 tasks      | elapsed:   12.4s\n",
      "[Parallel(n_jobs=-1)]: Done  90 out of  90 | elapsed:   28.5s finished\n",
      "C:\\ProgramData\\Anaconda3\\envs\\ml_common\\lib\\site-packages\\sklearn\\model_selection\\_search.py:814: DeprecationWarning: The default of the `iid` parameter will change from True to False in version 0.22 and will be removed in 0.24. This will change numeric results when test-set sizes are unequal.\n",
      "  DeprecationWarning)\n"
     ]
    },
    {
     "output_type": "execute_result",
     "data": {
      "text/plain": [
       "GridSearchCV(cv=StratifiedKFold(n_splits=5, random_state=33, shuffle=True),\n",
       "             error_score='raise-deprecating',\n",
       "             estimator=RandomForestRegressor(bootstrap=True, criterion='mse',\n",
       "                                             max_depth=None,\n",
       "                                             max_features='auto',\n",
       "                                             max_leaf_nodes=None,\n",
       "                                             min_impurity_decrease=0.0,\n",
       "                                             min_impurity_split=None,\n",
       "                                             min_samples_leaf=1,\n",
       "                                             min_samples_split=2,\n",
       "                                             min_weight_fraction_leaf=0.0,\n",
       "                                             n_estimators='warn', n_jobs=-1,\n",
       "                                             oob_score=True, random_state=33,\n",
       "                                             verbose=0, warm_start=False),\n",
       "             iid='warn', n_jobs=-1,\n",
       "             param_grid={'max_depth': [12, 15], 'max_features': [8, 10, 12],\n",
       "                         'n_estimators': [250, 300, 350]},\n",
       "             pre_dispatch='2*n_jobs', refit=True, return_train_score=False,\n",
       "             scoring=None, verbose=1)"
      ]
     },
     "metadata": {},
     "execution_count": 24
    }
   ],
   "source": [
    "parameters = {'max_features': [8,10,12], 'max_depth': [12,15], 'n_estimators': [250, 300, 350]}\n",
    "rfr = RandomForestRegressor(random_state=33, n_jobs=-1, oob_score=True)\n",
    "gcv = GridSearchCV(rfr, parameters, n_jobs=-1, cv=skf, verbose=1)\n",
    "gcv.fit(x, y)"
   ]
  },
  {
   "cell_type": "code",
   "execution_count": 25,
   "metadata": {},
   "outputs": [
    {
     "output_type": "stream",
     "name": "stdout",
     "text": [
      "Best estimator: RandomForestRegressor(bootstrap=True, criterion='mse', max_depth=15,\n                      max_features=12, max_leaf_nodes=None,\n                      min_impurity_decrease=0.0, min_impurity_split=None,\n                      min_samples_leaf=1, min_samples_split=2,\n                      min_weight_fraction_leaf=0.0, n_estimators=250, n_jobs=-1,\n                      oob_score=True, random_state=33, verbose=0,\n                      warm_start=False)\nBest score: 0.8393680990759769\nBest params: {'max_depth': 15, 'max_features': 12, 'n_estimators': 250}\n"
     ]
    }
   ],
   "source": [
    "print(f'Best estimator: {gcv.best_estimator_}')\n",
    "print(f'Best score: {gcv.best_score_}')\n",
    "print(f'Best params: {gcv.best_params_}')"
   ]
  },
  {
   "cell_type": "code",
   "execution_count": 26,
   "metadata": {},
   "outputs": [],
   "source": [
    "best_rfr = RandomForestRegressor(max_depth=15, max_features=12, \n",
    "                      min_impurity_decrease=0.0, min_impurity_split=None,                      \n",
    "                      min_weight_fraction_leaf=0.0, n_estimators=250, n_jobs=-1,\n",
    "                      oob_score=True)\n",
    "best_rfr.fit(x, y)\n",
    "\n",
    "df_result_x_test['SalePrice'] = best_rfr.predict(x_test)"
   ]
  },
  {
   "cell_type": "code",
   "execution_count": 27,
   "metadata": {},
   "outputs": [],
   "source": [
    "\n",
    "df_result_x_test['SalePrice'] = df_result_x_test['SalePrice'].astype(np.int64, copy=False)\n",
    "df_result_x_test.to_csv('rf_grid_submission.csv', index=False)"
   ]
  },
  {
   "cell_type": "code",
   "execution_count": null,
   "metadata": {},
   "outputs": [],
   "source": []
  }
 ]
}