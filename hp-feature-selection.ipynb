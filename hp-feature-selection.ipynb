{
 "metadata": {
  "language_info": {
   "codemirror_mode": {
    "name": "ipython",
    "version": 3
   },
   "file_extension": ".py",
   "mimetype": "text/x-python",
   "name": "python",
   "nbconvert_exporter": "python",
   "pygments_lexer": "ipython3",
   "version": "3.7.4-final"
  },
  "orig_nbformat": 2,
  "kernelspec": {
   "name": "python37464bitmlcommoncondadf6e485ff07d4a6ba0981cb07fca5dce",
   "display_name": "Python 3.7.4 64-bit ('ml_common': conda)",
   "language": "python"
  }
 },
 "nbformat": 4,
 "nbformat_minor": 2,
 "cells": [
  {
   "cell_type": "code",
   "execution_count": 1,
   "metadata": {},
   "outputs": [],
   "source": [
    "import numpy as np\n",
    "import pandas as pd \n",
    "import seaborn as sns \n",
    "import csv\n",
    "\n",
    "pd.set_option('display.max_columns', None)\n",
    "pd.set_option('display.max_rows', None)\n",
    "\n",
    "df_train = pd.read_csv('train_normalized.csv')\n",
    "df_test = pd.read_csv('test_normalized.csv')"
   ]
  },
  {
   "source": [
    "## Features selection\n"
   ],
   "cell_type": "markdown",
   "metadata": {}
  },
  {
   "cell_type": "code",
   "execution_count": 3,
   "metadata": {},
   "outputs": [],
   "source": [
    "\n",
    "df_all = df_train.copy()\n",
    "del df_all['SalePrice']\n",
    "\n",
    "df_all = df_all.append(df_test, ignore_index=True)\n",
    "\n",
    "#df_all.describe(include='all')"
   ]
  },
  {
   "cell_type": "code",
   "execution_count": 4,
   "metadata": {},
   "outputs": [],
   "source": [
    "# Select  all features, but SalePrice\n",
    "x = df_train.copy()\n",
    "del x['Id']\n",
    "del x['SalePrice']\n",
    "\n",
    "x_test = df_test.copy()\n",
    "del x_test['Id']\n",
    "\n",
    "#regressor values\n",
    "y = df_train['SalePrice']"
   ]
  },
  {
   "source": [
    "## Feature selection using:\n",
    "\n",
    "1 Filter-based techniques\n",
    "* Pearson correlation\n",
    "* chi-square correlation\n",
    "\n",
    "2 Wrapper-based techniques\n",
    "* recursive feature elimination (RFE)\n",
    "\n",
    "3 Embedded techniques\n",
    "* lasso based on linear regression"
   ],
   "cell_type": "markdown",
   "metadata": {}
  },
  {
   "cell_type": "code",
   "execution_count": 14,
   "metadata": {},
   "outputs": [],
   "source": [
    "num_feats = 40\n",
    "feature_name = x.columns.tolist()"
   ]
  },
  {
   "cell_type": "code",
   "execution_count": 15,
   "metadata": {},
   "outputs": [
    {
     "output_type": "stream",
     "name": "stdout",
     "text": [
      "40 selected features\n"
     ]
    }
   ],
   "source": [
    "#Pearson correlation\n",
    "def cor_selector(X, y,num_feats):\n",
    "    cor_list = []    \n",
    "    # calculate the correlation with y for each feature\n",
    "    for i in X.columns.tolist():\n",
    "        cor = np.corrcoef(X[i], y)[0, 1]\n",
    "        cor_list.append(cor)\n",
    "    # replace NaN with 0\n",
    "    cor_list = [0 if np.isnan(i) else i for i in cor_list]\n",
    "    # feature name\n",
    "    cor_feature = X.iloc[:,np.argsort(np.abs(cor_list))[-num_feats:]].columns.tolist()\n",
    "    # feature selection? 0 for not select, 1 for select\n",
    "    cor_support = [True if i in cor_feature else False for i in feature_name]\n",
    "    return cor_support, cor_feature\n",
    "\n",
    "cor_support, cor_feature = cor_selector(x, y, num_feats)\n",
    "print(str(len(cor_feature)), 'selected features')\n"
   ]
  },
  {
   "cell_type": "code",
   "execution_count": 16,
   "metadata": {},
   "outputs": [
    {
     "output_type": "stream",
     "name": "stdout",
     "text": [
      "40 selected features\n"
     ]
    }
   ],
   "source": [
    "#chi-square correlation\n",
    "from sklearn.feature_selection import SelectKBest\n",
    "from sklearn.feature_selection import chi2\n",
    "from sklearn.preprocessing import MinMaxScaler\n",
    "\n",
    "X_norm = MinMaxScaler().fit_transform(x)\n",
    "chi_selector = SelectKBest(chi2, k=num_feats)\n",
    "chi_selector.fit(X_norm, y)\n",
    "chi_support = chi_selector.get_support()\n",
    "chi_feature = x.loc[:,chi_support].columns.tolist()\n",
    "print(str(len(chi_feature)), 'selected features')\n"
   ]
  },
  {
   "cell_type": "code",
   "execution_count": 18,
   "metadata": {},
   "outputs": [
    {
     "output_type": "stream",
     "name": "stdout",
     "text": [
      "Fitting estimator with 80 features.\n",
      "Fitting estimator with 70 features.\n",
      "Fitting estimator with 60 features.\n",
      "Fitting estimator with 50 features.\n",
      "40 selected features\n"
     ]
    }
   ],
   "source": [
    "#recursive feature elimination (RFE)\n",
    "from sklearn.feature_selection import RFE\n",
    "from sklearn.linear_model import LogisticRegression\n",
    "rfe_selector = RFE(estimator=LogisticRegression(), n_features_to_select=num_feats, step=10, verbose=5)\n",
    "rfe_selector.fit(X_norm, y)\n",
    "rfe_support = rfe_selector.get_support()\n",
    "rfe_feature = x.loc[:,rfe_support].columns.tolist()\n",
    "print(str(len(rfe_feature)), 'selected features')"
   ]
  },
  {
   "cell_type": "code",
   "execution_count": 19,
   "metadata": {},
   "outputs": [
    {
     "output_type": "stream",
     "name": "stdout",
     "text": [
      "40 selected features\n"
     ]
    }
   ],
   "source": [
    "#lasso based on linear regression\n",
    "from sklearn.feature_selection import SelectFromModel\n",
    "from sklearn.linear_model import LogisticRegression\n",
    "\n",
    "embeded_lr_selector = SelectFromModel(LogisticRegression(penalty=\"l1\"), max_features=num_feats)\n",
    "embeded_lr_selector.fit(X_norm, y)\n",
    "\n",
    "embeded_lr_support = embeded_lr_selector.get_support()\n",
    "embeded_lr_feature = x.loc[:,embeded_lr_support].columns.tolist()\n",
    "print(str(len(embeded_lr_feature)), 'selected features')"
   ]
  },
  {
   "cell_type": "code",
   "execution_count": 20,
   "metadata": {},
   "outputs": [
    {
     "output_type": "execute_result",
     "data": {
      "text/plain": [
       "                Feature  Pearson  Chi-2    RFE  Logistics  Total\n",
       "1          YearRemodAdd     True   True   True       True      4\n",
       "2          Neighborhood     True   True   True       True      4\n",
       "3            MasVnrType     True   True   True       True      4\n",
       "4   MSSubclass_category     True   True   True       True      4\n",
       "5           KitchenQual     True   True   True       True      4\n",
       "6              HalfBath     True   True   True       True      4\n",
       "7          GarageFinish     True   True   True       True      4\n",
       "8            Foundation     True   True   True       True      4\n",
       "9            Fireplaces     True   True   True       True      4\n",
       "10         BsmtFinType1     True   True   True       True      4\n",
       "11         BsmtExposure     True   True   True       True      4\n",
       "12             2ndFlrSF     True   True   True       True      4\n",
       "13               YrSold    False   True   True       True      3\n",
       "14        SaleCondition     True   True   True      False      3\n",
       "15           PavedDrive     True  False   True       True      3\n",
       "16             MSZoning     True  False   True       True      3\n",
       "17            LotConfig    False   True   True       True      3\n",
       "18           HouseStyle    False   True   True       True      3\n",
       "19            HeatingQC     True  False   True       True      3\n",
       "20          GarageYrBlt     True  False   True       True      3\n",
       "21           GarageCars     True   True  False       True      3\n",
       "22             FullBath     True  False   True       True      3\n",
       "23          FireplaceQu     True  False   True       True      3\n",
       "24                Fence    False   True   True       True      3\n",
       "25          Exterior2nd    False   True   True       True      3\n",
       "26          Exterior1st    False   True   True       True      3\n",
       "27           Electrical     True  False   True       True      3\n",
       "28           CentralAir     True  False   True       True      3\n",
       "29             BsmtQual     True   True  False       True      3\n",
       "30            YearBuilt     True  False  False       True      2\n",
       "31           WoodDeckSF     True   True  False      False      2\n",
       "32            Utilities    False  False   True       True      2\n",
       "33               Street    False  False   True       True      2\n",
       "34             RoofMatl    False  False   True       True      2\n",
       "35          OpenPorchSF     True   True  False      False      2\n",
       "36               MoSold    False  False   True       True      2\n",
       "37           MasVnrArea     True   True  False      False      2\n",
       "38           MSSubClass    False   True   True      False      2\n",
       "39             LotShape     True   True  False      False      2\n",
       "40            LandSlope    False  False   True       True      2"
      ],
      "text/html": "<div>\n<style scoped>\n    .dataframe tbody tr th:only-of-type {\n        vertical-align: middle;\n    }\n\n    .dataframe tbody tr th {\n        vertical-align: top;\n    }\n\n    .dataframe thead th {\n        text-align: right;\n    }\n</style>\n<table border=\"1\" class=\"dataframe\">\n  <thead>\n    <tr style=\"text-align: right;\">\n      <th></th>\n      <th>Feature</th>\n      <th>Pearson</th>\n      <th>Chi-2</th>\n      <th>RFE</th>\n      <th>Logistics</th>\n      <th>Total</th>\n    </tr>\n  </thead>\n  <tbody>\n    <tr>\n      <td>1</td>\n      <td>YearRemodAdd</td>\n      <td>True</td>\n      <td>True</td>\n      <td>True</td>\n      <td>True</td>\n      <td>4</td>\n    </tr>\n    <tr>\n      <td>2</td>\n      <td>Neighborhood</td>\n      <td>True</td>\n      <td>True</td>\n      <td>True</td>\n      <td>True</td>\n      <td>4</td>\n    </tr>\n    <tr>\n      <td>3</td>\n      <td>MasVnrType</td>\n      <td>True</td>\n      <td>True</td>\n      <td>True</td>\n      <td>True</td>\n      <td>4</td>\n    </tr>\n    <tr>\n      <td>4</td>\n      <td>MSSubclass_category</td>\n      <td>True</td>\n      <td>True</td>\n      <td>True</td>\n      <td>True</td>\n      <td>4</td>\n    </tr>\n    <tr>\n      <td>5</td>\n      <td>KitchenQual</td>\n      <td>True</td>\n      <td>True</td>\n      <td>True</td>\n      <td>True</td>\n      <td>4</td>\n    </tr>\n    <tr>\n      <td>6</td>\n      <td>HalfBath</td>\n      <td>True</td>\n      <td>True</td>\n      <td>True</td>\n      <td>True</td>\n      <td>4</td>\n    </tr>\n    <tr>\n      <td>7</td>\n      <td>GarageFinish</td>\n      <td>True</td>\n      <td>True</td>\n      <td>True</td>\n      <td>True</td>\n      <td>4</td>\n    </tr>\n    <tr>\n      <td>8</td>\n      <td>Foundation</td>\n      <td>True</td>\n      <td>True</td>\n      <td>True</td>\n      <td>True</td>\n      <td>4</td>\n    </tr>\n    <tr>\n      <td>9</td>\n      <td>Fireplaces</td>\n      <td>True</td>\n      <td>True</td>\n      <td>True</td>\n      <td>True</td>\n      <td>4</td>\n    </tr>\n    <tr>\n      <td>10</td>\n      <td>BsmtFinType1</td>\n      <td>True</td>\n      <td>True</td>\n      <td>True</td>\n      <td>True</td>\n      <td>4</td>\n    </tr>\n    <tr>\n      <td>11</td>\n      <td>BsmtExposure</td>\n      <td>True</td>\n      <td>True</td>\n      <td>True</td>\n      <td>True</td>\n      <td>4</td>\n    </tr>\n    <tr>\n      <td>12</td>\n      <td>2ndFlrSF</td>\n      <td>True</td>\n      <td>True</td>\n      <td>True</td>\n      <td>True</td>\n      <td>4</td>\n    </tr>\n    <tr>\n      <td>13</td>\n      <td>YrSold</td>\n      <td>False</td>\n      <td>True</td>\n      <td>True</td>\n      <td>True</td>\n      <td>3</td>\n    </tr>\n    <tr>\n      <td>14</td>\n      <td>SaleCondition</td>\n      <td>True</td>\n      <td>True</td>\n      <td>True</td>\n      <td>False</td>\n      <td>3</td>\n    </tr>\n    <tr>\n      <td>15</td>\n      <td>PavedDrive</td>\n      <td>True</td>\n      <td>False</td>\n      <td>True</td>\n      <td>True</td>\n      <td>3</td>\n    </tr>\n    <tr>\n      <td>16</td>\n      <td>MSZoning</td>\n      <td>True</td>\n      <td>False</td>\n      <td>True</td>\n      <td>True</td>\n      <td>3</td>\n    </tr>\n    <tr>\n      <td>17</td>\n      <td>LotConfig</td>\n      <td>False</td>\n      <td>True</td>\n      <td>True</td>\n      <td>True</td>\n      <td>3</td>\n    </tr>\n    <tr>\n      <td>18</td>\n      <td>HouseStyle</td>\n      <td>False</td>\n      <td>True</td>\n      <td>True</td>\n      <td>True</td>\n      <td>3</td>\n    </tr>\n    <tr>\n      <td>19</td>\n      <td>HeatingQC</td>\n      <td>True</td>\n      <td>False</td>\n      <td>True</td>\n      <td>True</td>\n      <td>3</td>\n    </tr>\n    <tr>\n      <td>20</td>\n      <td>GarageYrBlt</td>\n      <td>True</td>\n      <td>False</td>\n      <td>True</td>\n      <td>True</td>\n      <td>3</td>\n    </tr>\n    <tr>\n      <td>21</td>\n      <td>GarageCars</td>\n      <td>True</td>\n      <td>True</td>\n      <td>False</td>\n      <td>True</td>\n      <td>3</td>\n    </tr>\n    <tr>\n      <td>22</td>\n      <td>FullBath</td>\n      <td>True</td>\n      <td>False</td>\n      <td>True</td>\n      <td>True</td>\n      <td>3</td>\n    </tr>\n    <tr>\n      <td>23</td>\n      <td>FireplaceQu</td>\n      <td>True</td>\n      <td>False</td>\n      <td>True</td>\n      <td>True</td>\n      <td>3</td>\n    </tr>\n    <tr>\n      <td>24</td>\n      <td>Fence</td>\n      <td>False</td>\n      <td>True</td>\n      <td>True</td>\n      <td>True</td>\n      <td>3</td>\n    </tr>\n    <tr>\n      <td>25</td>\n      <td>Exterior2nd</td>\n      <td>False</td>\n      <td>True</td>\n      <td>True</td>\n      <td>True</td>\n      <td>3</td>\n    </tr>\n    <tr>\n      <td>26</td>\n      <td>Exterior1st</td>\n      <td>False</td>\n      <td>True</td>\n      <td>True</td>\n      <td>True</td>\n      <td>3</td>\n    </tr>\n    <tr>\n      <td>27</td>\n      <td>Electrical</td>\n      <td>True</td>\n      <td>False</td>\n      <td>True</td>\n      <td>True</td>\n      <td>3</td>\n    </tr>\n    <tr>\n      <td>28</td>\n      <td>CentralAir</td>\n      <td>True</td>\n      <td>False</td>\n      <td>True</td>\n      <td>True</td>\n      <td>3</td>\n    </tr>\n    <tr>\n      <td>29</td>\n      <td>BsmtQual</td>\n      <td>True</td>\n      <td>True</td>\n      <td>False</td>\n      <td>True</td>\n      <td>3</td>\n    </tr>\n    <tr>\n      <td>30</td>\n      <td>YearBuilt</td>\n      <td>True</td>\n      <td>False</td>\n      <td>False</td>\n      <td>True</td>\n      <td>2</td>\n    </tr>\n    <tr>\n      <td>31</td>\n      <td>WoodDeckSF</td>\n      <td>True</td>\n      <td>True</td>\n      <td>False</td>\n      <td>False</td>\n      <td>2</td>\n    </tr>\n    <tr>\n      <td>32</td>\n      <td>Utilities</td>\n      <td>False</td>\n      <td>False</td>\n      <td>True</td>\n      <td>True</td>\n      <td>2</td>\n    </tr>\n    <tr>\n      <td>33</td>\n      <td>Street</td>\n      <td>False</td>\n      <td>False</td>\n      <td>True</td>\n      <td>True</td>\n      <td>2</td>\n    </tr>\n    <tr>\n      <td>34</td>\n      <td>RoofMatl</td>\n      <td>False</td>\n      <td>False</td>\n      <td>True</td>\n      <td>True</td>\n      <td>2</td>\n    </tr>\n    <tr>\n      <td>35</td>\n      <td>OpenPorchSF</td>\n      <td>True</td>\n      <td>True</td>\n      <td>False</td>\n      <td>False</td>\n      <td>2</td>\n    </tr>\n    <tr>\n      <td>36</td>\n      <td>MoSold</td>\n      <td>False</td>\n      <td>False</td>\n      <td>True</td>\n      <td>True</td>\n      <td>2</td>\n    </tr>\n    <tr>\n      <td>37</td>\n      <td>MasVnrArea</td>\n      <td>True</td>\n      <td>True</td>\n      <td>False</td>\n      <td>False</td>\n      <td>2</td>\n    </tr>\n    <tr>\n      <td>38</td>\n      <td>MSSubClass</td>\n      <td>False</td>\n      <td>True</td>\n      <td>True</td>\n      <td>False</td>\n      <td>2</td>\n    </tr>\n    <tr>\n      <td>39</td>\n      <td>LotShape</td>\n      <td>True</td>\n      <td>True</td>\n      <td>False</td>\n      <td>False</td>\n      <td>2</td>\n    </tr>\n    <tr>\n      <td>40</td>\n      <td>LandSlope</td>\n      <td>False</td>\n      <td>False</td>\n      <td>True</td>\n      <td>True</td>\n      <td>2</td>\n    </tr>\n  </tbody>\n</table>\n</div>"
     },
     "metadata": {},
     "execution_count": 20
    }
   ],
   "source": [
    "# put all selection together\n",
    "feature_selection_df = pd.DataFrame(\n",
    "    {'Feature':feature_name, 'Pearson':cor_support,\n",
    "    'Chi-2':chi_support, 'RFE':rfe_support, 'Logistics':embeded_lr_support}\n",
    ")\n",
    "\n",
    "# count the selected times for each feature\n",
    "feature_selection_df['Total'] = np.sum(feature_selection_df, axis=1)\n",
    "# display the top 100\n",
    "feature_selection_df = feature_selection_df.sort_values(['Total','Feature'] , ascending=False)\n",
    "feature_selection_df.index = range(1, len(feature_selection_df)+1)\n",
    "feature_selection_df.head(num_feats)"
   ]
  },
  {
   "cell_type": "code",
   "execution_count": 21,
   "metadata": {},
   "outputs": [
    {
     "output_type": "execute_result",
     "data": {
      "text/plain": [
       "['YearRemodAdd',\n",
       " 'Neighborhood',\n",
       " 'MasVnrType',\n",
       " 'MSSubclass_category',\n",
       " 'KitchenQual',\n",
       " 'HalfBath',\n",
       " 'GarageFinish',\n",
       " 'Foundation',\n",
       " 'Fireplaces',\n",
       " 'BsmtFinType1',\n",
       " 'BsmtExposure',\n",
       " '2ndFlrSF',\n",
       " 'YrSold',\n",
       " 'SaleCondition',\n",
       " 'PavedDrive',\n",
       " 'MSZoning',\n",
       " 'LotConfig',\n",
       " 'HouseStyle',\n",
       " 'HeatingQC',\n",
       " 'GarageYrBlt',\n",
       " 'GarageCars',\n",
       " 'FullBath',\n",
       " 'FireplaceQu',\n",
       " 'Fence',\n",
       " 'Exterior2nd',\n",
       " 'Exterior1st',\n",
       " 'Electrical',\n",
       " 'CentralAir',\n",
       " 'BsmtQual',\n",
       " 'YearBuilt',\n",
       " 'WoodDeckSF',\n",
       " 'Utilities',\n",
       " 'Street',\n",
       " 'RoofMatl',\n",
       " 'OpenPorchSF',\n",
       " 'MoSold',\n",
       " 'MasVnrArea',\n",
       " 'MSSubClass',\n",
       " 'LotShape',\n",
       " 'LandSlope']"
      ]
     },
     "metadata": {},
     "execution_count": 21
    }
   ],
   "source": [
    "feature_selection_df.head(num_feats).Feature.tolist()"
   ]
  },
  {
   "cell_type": "code",
   "execution_count": null,
   "metadata": {},
   "outputs": [],
   "source": []
  }
 ]
}