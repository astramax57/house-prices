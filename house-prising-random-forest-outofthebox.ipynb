{
 "metadata": {
  "language_info": {
   "codemirror_mode": {
    "name": "ipython",
    "version": 3
   },
   "file_extension": ".py",
   "mimetype": "text/x-python",
   "name": "python",
   "nbconvert_exporter": "python",
   "pygments_lexer": "ipython3",
   "version": "3.7.4-final"
  },
  "orig_nbformat": 2,
  "kernelspec": {
   "name": "python37464bitmlcommoncondadf6e485ff07d4a6ba0981cb07fca5dce",
   "display_name": "Python 3.7.4 64-bit ('ml_common': conda)",
   "language": "python"
  }
 },
 "nbformat": 4,
 "nbformat_minor": 2,
 "cells": [
  {
   "source": [
    "## random forest"
   ],
   "cell_type": "markdown",
   "metadata": {}
  },
  {
   "cell_type": "code",
   "execution_count": 1,
   "metadata": {},
   "outputs": [],
   "source": [
    "import numpy as np\n",
    "import pandas as pd \n",
    "import seaborn as sns \n",
    "import csv\n",
    "\n",
    "from sklearn.ensemble import RandomForestRegressor\n",
    "from sklearn.model_selection import train_test_split\n",
    "\n",
    "pd.set_option('display.max_columns', None)\n",
    "pd.set_option('display.max_rows', None)\n",
    "\n",
    "df_train = pd.read_csv('train_normalized.csv')\n",
    "df_test = pd.read_csv('test_normalized.csv')"
   ]
  },
  {
   "cell_type": "code",
   "execution_count": 53,
   "metadata": {},
   "outputs": [],
   "source": [
    "#df_train.describe()"
   ]
  },
  {
   "cell_type": "code",
   "execution_count": 54,
   "metadata": {},
   "outputs": [],
   "source": [
    "# Select the desired features...\n",
    "'''x = df_train[[\n",
    "    'YearBuilt', 'YearRemodAdd', 'Exterior1st', 'ExterQual', 'ExterCond', 'Condition1', 'BldgType', 'HouseStyle',\n",
    "    'MSSubclass_category', 'LotArea', 'Utilities', 'Neighborhood'\n",
    "]]\n",
    "\n",
    "x_test = df_test[[\n",
    "    'YearBuilt', 'YearRemodAdd', 'Exterior1st', 'ExterQual', 'ExterCond', 'Condition1', 'BldgType', 'HouseStyle',\n",
    "    'MSSubclass_category', 'LotArea', 'Utilities', 'Neighborhood'\n",
    "]]\n",
    "'''\n",
    "\n",
    "#... or all features, but SalePrice\n",
    "x = df_train.copy()\n",
    "del x['SalePrice']\n",
    "\n",
    "x_test = df_test.copy()\n",
    "\n",
    "\n",
    "#regressor values\n",
    "y = df_train['SalePrice']\n"
   ]
  },
  {
   "cell_type": "code",
   "execution_count": 55,
   "metadata": {},
   "outputs": [
    {
     "output_type": "execute_result",
     "data": {
      "text/plain": [
       "                Id   MSSubClass     MSZoning  LotFrontage       LotArea  \\\n",
       "count  1459.000000  1459.000000  1459.000000  1459.000000   1459.000000   \n",
       "mean   2190.000000    57.378341     5.962988    57.910212   9819.161069   \n",
       "std     421.321334    42.746880     0.891970    32.266054   4955.517327   \n",
       "min    1461.000000    20.000000     2.000000     0.000000   1470.000000   \n",
       "25%    1825.500000    20.000000     6.000000    44.000000   7391.000000   \n",
       "50%    2190.000000    50.000000     6.000000    63.000000   9399.000000   \n",
       "75%    2554.500000    70.000000     6.000000    78.000000  11517.500000   \n",
       "max    2919.000000   190.000000     7.000000   200.000000  56600.000000   \n",
       "\n",
       "            Street        Alley     LotShape  LandContour  Utilities  \\\n",
       "count  1459.000000  1459.000000  1459.000000  1459.000000     1459.0   \n",
       "mean      1.995888     1.977382     3.607951     3.817683        4.0   \n",
       "std       0.064018     0.269956     0.557864     0.586487        0.0   \n",
       "min       1.000000     1.000000     1.000000     1.000000        4.0   \n",
       "25%       2.000000     2.000000     3.000000     4.000000        4.0   \n",
       "50%       2.000000     2.000000     4.000000     4.000000        4.0   \n",
       "75%       2.000000     2.000000     4.000000     4.000000        4.0   \n",
       "max       2.000000     3.000000     4.000000     4.000000        4.0   \n",
       "\n",
       "         LotConfig    LandSlope  Neighborhood   Condition1   Condition2  \\\n",
       "count  1459.000000  1459.000000   1459.000000  1459.000000  1459.000000   \n",
       "mean      4.206306     2.954764     12.551062     3.076080     3.003427   \n",
       "std       1.382554     0.217566      6.829239     0.991927     0.241428   \n",
       "min       1.000000     1.000000      1.000000     1.000000     1.000000   \n",
       "25%       3.000000     3.000000      7.000000     3.000000     3.000000   \n",
       "50%       5.000000     3.000000     12.000000     3.000000     3.000000   \n",
       "75%       5.000000     3.000000     17.000000     3.000000     3.000000   \n",
       "max       5.000000     3.000000     25.000000     9.000000     7.000000   \n",
       "\n",
       "          BldgType   HouseStyle  OverallQual  OverallCond    YearBuilt  \\\n",
       "count  1459.000000  1459.000000  1459.000000  1459.000000  1459.000000   \n",
       "mean      2.908156     2.627827     6.078821     5.553804     0.719984   \n",
       "std       0.718028     1.955070     1.436812     1.113740     0.220218   \n",
       "min       1.000000     1.000000     1.000000     1.000000     0.050725   \n",
       "25%       3.000000     1.000000     5.000000     5.000000     0.586957   \n",
       "50%       3.000000     1.000000     6.000000     5.000000     0.731884   \n",
       "75%       3.000000     4.000000     7.000000     6.000000     0.934783   \n",
       "max       5.000000     8.000000    10.000000     9.000000     1.000000   \n",
       "\n",
       "       YearRemodAdd    RoofStyle     RoofMatl  Exterior1st  Exterior2nd  \\\n",
       "count   1459.000000  1459.000000  1459.000000  1459.000000  1459.000000   \n",
       "mean       0.809151     2.382454     6.967101     9.938999     9.976011   \n",
       "std        0.153119     0.806605     0.333766     4.571004     4.536558   \n",
       "min        0.565217     1.000000     2.000000     1.000000     1.000000   \n",
       "25%        0.659420     2.000000     7.000000     7.000000     7.000000   \n",
       "50%        0.869565     2.000000     7.000000    13.000000    13.000000   \n",
       "75%        0.956522     2.000000     7.000000    13.000000    13.000000   \n",
       "max        1.000000     6.000000     7.000000    17.000000    17.000000   \n",
       "\n",
       "        MasVnrType   MasVnrArea    ExterQual    ExterCond   Foundation  \\\n",
       "count  1459.000000  1459.000000  1459.000000  1459.000000  1459.000000   \n",
       "mean      2.293352    99.673749     3.397533     3.087731     4.281014   \n",
       "std       1.798194   177.001792     0.586444     0.392637     1.621356   \n",
       "min       1.000000     0.000000     2.000000     1.000000     1.000000   \n",
       "25%       1.000000     0.000000     3.000000     3.000000     3.000000   \n",
       "50%       1.000000     0.000000     3.000000     3.000000     3.000000   \n",
       "75%       5.000000   162.000000     4.000000     3.000000     6.000000   \n",
       "max       5.000000  1290.000000     5.000000     5.000000     6.000000   \n",
       "\n",
       "          BsmtQual     BsmtCond  BsmtExposure  BsmtFinType1   BsmtFinSF1  \\\n",
       "count  1459.000000  1459.000000   1459.000000   1459.000000  1459.000000   \n",
       "mean      3.556546     2.994517      3.382454      4.537354   438.902673   \n",
       "std       0.712463     0.296246      1.072985      2.120627   455.257119   \n",
       "min       2.000000     1.000000      1.000000      1.000000     0.000000   \n",
       "25%       3.000000     3.000000      3.000000      2.000000     0.000000   \n",
       "50%       3.000000     3.000000      4.000000      5.000000   350.000000   \n",
       "75%       4.000000     3.000000      4.000000      7.000000   752.000000   \n",
       "max       5.000000     4.000000      5.000000      7.000000  4010.000000   \n",
       "\n",
       "       BsmtFinType2   BsmtFinSF2    BsmtUnfSF  TotalBsmtSF      Heating  \\\n",
       "count   1459.000000  1459.000000  1459.000000  1459.000000  1459.000000   \n",
       "mean       2.300206    52.583276   553.915010  1045.400960     4.009596   \n",
       "std        1.013797   176.698671   437.351324   443.592976     0.195746   \n",
       "min        1.000000     0.000000     0.000000     0.000000     1.000000   \n",
       "25%        2.000000     0.000000   219.000000   784.000000     4.000000   \n",
       "50%        2.000000     0.000000   460.000000   988.000000     4.000000   \n",
       "75%        2.000000     0.000000   797.500000  1304.000000     4.000000   \n",
       "max        7.000000  1526.000000  2140.000000  5095.000000     6.000000   \n",
       "\n",
       "         HeatingQC   CentralAir   Electrical     1stFlrSF     2ndFlrSF  \\\n",
       "count  1459.000000  1459.000000  1459.000000  1459.000000  1459.000000   \n",
       "mean      4.158328     0.930775     4.874572  1156.534613   325.967786   \n",
       "std       0.956684     0.253924     0.495554   398.165820   420.610226   \n",
       "min       1.000000     0.000000     1.000000   407.000000     0.000000   \n",
       "25%       3.000000     1.000000     5.000000   873.500000     0.000000   \n",
       "50%       5.000000     1.000000     5.000000  1079.000000     0.000000   \n",
       "75%       5.000000     1.000000     5.000000  1382.500000   676.000000   \n",
       "max       5.000000     1.000000     5.000000  5095.000000  1862.000000   \n",
       "\n",
       "       LowQualFinSF    GrLivArea  BsmtFullBath  BsmtHalfBath     FullBath  \\\n",
       "count   1459.000000  1459.000000   1459.000000   1459.000000  1459.000000   \n",
       "mean       3.543523  1486.045922      0.433859      0.065113     1.570939   \n",
       "std       44.043251   485.566099      0.530527      0.252307     0.555190   \n",
       "min        0.000000   407.000000      0.000000      0.000000     0.000000   \n",
       "25%        0.000000  1117.500000      0.000000      0.000000     1.000000   \n",
       "50%        0.000000  1432.000000      0.000000      0.000000     2.000000   \n",
       "75%        0.000000  1721.000000      1.000000      0.000000     2.000000   \n",
       "max     1064.000000  5095.000000      3.000000      2.000000     4.000000   \n",
       "\n",
       "          HalfBath  BedroomAbvGr  KitchenAbvGr  KitchenQual  TotRmsAbvGrd  \\\n",
       "count  1459.000000   1459.000000   1459.000000  1459.000000   1459.000000   \n",
       "mean      0.377656      2.854010      1.042495     3.509938      6.385195   \n",
       "std       0.503017      0.829788      0.208472     0.660780      1.508895   \n",
       "min       0.000000      0.000000      0.000000     2.000000      3.000000   \n",
       "25%       0.000000      2.000000      1.000000     3.000000      5.000000   \n",
       "50%       0.000000      3.000000      1.000000     3.000000      6.000000   \n",
       "75%       1.000000      3.000000      1.000000     4.000000      7.000000   \n",
       "max       2.000000      6.000000      2.000000     5.000000     15.000000   \n",
       "\n",
       "        Functional  Fireplaces  FireplaceQu   GarageType  GarageYrBlt  \\\n",
       "count  1459.000000  1459.00000  1459.000000  1459.000000  1459.000000   \n",
       "mean      7.854695     0.58122     3.211789     3.747772     0.763591   \n",
       "std       0.610379     0.64742     0.596950     1.037427     0.185530   \n",
       "min       2.000000     0.00000     1.000000     1.000000     0.166667   \n",
       "25%       8.000000     0.00000     3.000000     3.000000     0.630435   \n",
       "50%       8.000000     0.00000     3.000000     4.000000     0.768116   \n",
       "75%       8.000000     1.00000     4.000000     4.000000     0.942029   \n",
       "max       8.000000     4.00000     5.000000     7.000000     1.000000   \n",
       "\n",
       "       GarageFinish   GarageCars   GarageArea   GarageQual   GarageCond  \\\n",
       "count   1459.000000  1459.000000  1459.000000  1459.000000  1459.000000   \n",
       "mean       2.716244     1.764907   472.444825     2.952022     2.969157   \n",
       "std        0.902110     0.777056   217.326902     0.249336     0.227728   \n",
       "min        1.000000     0.000000     0.000000     1.000000     1.000000   \n",
       "25%        2.000000     1.000000   317.500000     3.000000     3.000000   \n",
       "50%        3.000000     2.000000   480.000000     3.000000     3.000000   \n",
       "75%        4.000000     2.000000   576.000000     3.000000     3.000000   \n",
       "max        4.000000     5.000000  1488.000000     4.000000     5.000000   \n",
       "\n",
       "        PavedDrive   WoodDeckSF  OpenPorchSF  EnclosedPorch    3SsnPorch  \\\n",
       "count  1459.000000  1459.000000  1459.000000    1459.000000  1459.000000   \n",
       "mean      2.805346    93.174777    48.313914      24.243317     1.794380   \n",
       "std       0.574204   127.744882    68.883364      67.227765    20.207842   \n",
       "min       1.000000     0.000000     0.000000       0.000000     0.000000   \n",
       "25%       3.000000     0.000000     0.000000       0.000000     0.000000   \n",
       "50%       3.000000     0.000000    28.000000       0.000000     0.000000   \n",
       "75%       3.000000   168.000000    72.000000       0.000000     0.000000   \n",
       "max       3.000000  1424.000000   742.000000    1012.000000   360.000000   \n",
       "\n",
       "       ScreenPorch     PoolArea       PoolQC        Fence  MiscFeature  \\\n",
       "count  1459.000000  1459.000000  1459.000000  1459.000000  1459.000000   \n",
       "mean     17.064428     1.744345     1.007539     1.595613     0.034955   \n",
       "std      56.609763    30.491646     0.167523     1.230447     0.183730   \n",
       "min       0.000000     0.000000     1.000000     1.000000     0.000000   \n",
       "25%       0.000000     0.000000     1.000000     1.000000     0.000000   \n",
       "50%       0.000000     0.000000     1.000000     1.000000     0.000000   \n",
       "75%       0.000000     0.000000     1.000000     1.000000     0.000000   \n",
       "max     576.000000   800.000000     5.000000     5.000000     1.000000   \n",
       "\n",
       "            MiscVal       MoSold       YrSold     SaleType  SaleCondition  \\\n",
       "count   1459.000000  1459.000000  1459.000000  1459.000000    1459.000000   \n",
       "mean      58.167923     6.104181  2007.769705     1.526388       1.579164   \n",
       "std      630.806978     2.722432     1.301740     1.470266       1.471169   \n",
       "min        0.000000     1.000000  2006.000000     1.000000       1.000000   \n",
       "25%        0.000000     4.000000  2007.000000     1.000000       1.000000   \n",
       "50%        0.000000     6.000000  2008.000000     1.000000       1.000000   \n",
       "75%        0.000000     8.000000  2009.000000     1.000000       1.000000   \n",
       "max    17000.000000    12.000000  2010.000000    10.000000       6.000000   \n",
       "\n",
       "       MSSubclass_category  \n",
       "count          1459.000000  \n",
       "mean             25.442084  \n",
       "std               6.918587  \n",
       "min              10.000000  \n",
       "25%              20.000000  \n",
       "50%              30.000000  \n",
       "75%              30.000000  \n",
       "max              30.000000  "
      ],
      "text/html": "<div>\n<style scoped>\n    .dataframe tbody tr th:only-of-type {\n        vertical-align: middle;\n    }\n\n    .dataframe tbody tr th {\n        vertical-align: top;\n    }\n\n    .dataframe thead th {\n        text-align: right;\n    }\n</style>\n<table border=\"1\" class=\"dataframe\">\n  <thead>\n    <tr style=\"text-align: right;\">\n      <th></th>\n      <th>Id</th>\n      <th>MSSubClass</th>\n      <th>MSZoning</th>\n      <th>LotFrontage</th>\n      <th>LotArea</th>\n      <th>Street</th>\n      <th>Alley</th>\n      <th>LotShape</th>\n      <th>LandContour</th>\n      <th>Utilities</th>\n      <th>LotConfig</th>\n      <th>LandSlope</th>\n      <th>Neighborhood</th>\n      <th>Condition1</th>\n      <th>Condition2</th>\n      <th>BldgType</th>\n      <th>HouseStyle</th>\n      <th>OverallQual</th>\n      <th>OverallCond</th>\n      <th>YearBuilt</th>\n      <th>YearRemodAdd</th>\n      <th>RoofStyle</th>\n      <th>RoofMatl</th>\n      <th>Exterior1st</th>\n      <th>Exterior2nd</th>\n      <th>MasVnrType</th>\n      <th>MasVnrArea</th>\n      <th>ExterQual</th>\n      <th>ExterCond</th>\n      <th>Foundation</th>\n      <th>BsmtQual</th>\n      <th>BsmtCond</th>\n      <th>BsmtExposure</th>\n      <th>BsmtFinType1</th>\n      <th>BsmtFinSF1</th>\n      <th>BsmtFinType2</th>\n      <th>BsmtFinSF2</th>\n      <th>BsmtUnfSF</th>\n      <th>TotalBsmtSF</th>\n      <th>Heating</th>\n      <th>HeatingQC</th>\n      <th>CentralAir</th>\n      <th>Electrical</th>\n      <th>1stFlrSF</th>\n      <th>2ndFlrSF</th>\n      <th>LowQualFinSF</th>\n      <th>GrLivArea</th>\n      <th>BsmtFullBath</th>\n      <th>BsmtHalfBath</th>\n      <th>FullBath</th>\n      <th>HalfBath</th>\n      <th>BedroomAbvGr</th>\n      <th>KitchenAbvGr</th>\n      <th>KitchenQual</th>\n      <th>TotRmsAbvGrd</th>\n      <th>Functional</th>\n      <th>Fireplaces</th>\n      <th>FireplaceQu</th>\n      <th>GarageType</th>\n      <th>GarageYrBlt</th>\n      <th>GarageFinish</th>\n      <th>GarageCars</th>\n      <th>GarageArea</th>\n      <th>GarageQual</th>\n      <th>GarageCond</th>\n      <th>PavedDrive</th>\n      <th>WoodDeckSF</th>\n      <th>OpenPorchSF</th>\n      <th>EnclosedPorch</th>\n      <th>3SsnPorch</th>\n      <th>ScreenPorch</th>\n      <th>PoolArea</th>\n      <th>PoolQC</th>\n      <th>Fence</th>\n      <th>MiscFeature</th>\n      <th>MiscVal</th>\n      <th>MoSold</th>\n      <th>YrSold</th>\n      <th>SaleType</th>\n      <th>SaleCondition</th>\n      <th>MSSubclass_category</th>\n    </tr>\n  </thead>\n  <tbody>\n    <tr>\n      <td>count</td>\n      <td>1459.000000</td>\n      <td>1459.000000</td>\n      <td>1459.000000</td>\n      <td>1459.000000</td>\n      <td>1459.000000</td>\n      <td>1459.000000</td>\n      <td>1459.000000</td>\n      <td>1459.000000</td>\n      <td>1459.000000</td>\n      <td>1459.0</td>\n      <td>1459.000000</td>\n      <td>1459.000000</td>\n      <td>1459.000000</td>\n      <td>1459.000000</td>\n      <td>1459.000000</td>\n      <td>1459.000000</td>\n      <td>1459.000000</td>\n      <td>1459.000000</td>\n      <td>1459.000000</td>\n      <td>1459.000000</td>\n      <td>1459.000000</td>\n      <td>1459.000000</td>\n      <td>1459.000000</td>\n      <td>1459.000000</td>\n      <td>1459.000000</td>\n      <td>1459.000000</td>\n      <td>1459.000000</td>\n      <td>1459.000000</td>\n      <td>1459.000000</td>\n      <td>1459.000000</td>\n      <td>1459.000000</td>\n      <td>1459.000000</td>\n      <td>1459.000000</td>\n      <td>1459.000000</td>\n      <td>1459.000000</td>\n      <td>1459.000000</td>\n      <td>1459.000000</td>\n      <td>1459.000000</td>\n      <td>1459.000000</td>\n      <td>1459.000000</td>\n      <td>1459.000000</td>\n      <td>1459.000000</td>\n      <td>1459.000000</td>\n      <td>1459.000000</td>\n      <td>1459.000000</td>\n      <td>1459.000000</td>\n      <td>1459.000000</td>\n      <td>1459.000000</td>\n      <td>1459.000000</td>\n      <td>1459.000000</td>\n      <td>1459.000000</td>\n      <td>1459.000000</td>\n      <td>1459.000000</td>\n      <td>1459.000000</td>\n      <td>1459.000000</td>\n      <td>1459.000000</td>\n      <td>1459.00000</td>\n      <td>1459.000000</td>\n      <td>1459.000000</td>\n      <td>1459.000000</td>\n      <td>1459.000000</td>\n      <td>1459.000000</td>\n      <td>1459.000000</td>\n      <td>1459.000000</td>\n      <td>1459.000000</td>\n      <td>1459.000000</td>\n      <td>1459.000000</td>\n      <td>1459.000000</td>\n      <td>1459.000000</td>\n      <td>1459.000000</td>\n      <td>1459.000000</td>\n      <td>1459.000000</td>\n      <td>1459.000000</td>\n      <td>1459.000000</td>\n      <td>1459.000000</td>\n      <td>1459.000000</td>\n      <td>1459.000000</td>\n      <td>1459.000000</td>\n      <td>1459.000000</td>\n      <td>1459.000000</td>\n      <td>1459.000000</td>\n    </tr>\n    <tr>\n      <td>mean</td>\n      <td>2190.000000</td>\n      <td>57.378341</td>\n      <td>5.962988</td>\n      <td>57.910212</td>\n      <td>9819.161069</td>\n      <td>1.995888</td>\n      <td>1.977382</td>\n      <td>3.607951</td>\n      <td>3.817683</td>\n      <td>4.0</td>\n      <td>4.206306</td>\n      <td>2.954764</td>\n      <td>12.551062</td>\n      <td>3.076080</td>\n      <td>3.003427</td>\n      <td>2.908156</td>\n      <td>2.627827</td>\n      <td>6.078821</td>\n      <td>5.553804</td>\n      <td>0.719984</td>\n      <td>0.809151</td>\n      <td>2.382454</td>\n      <td>6.967101</td>\n      <td>9.938999</td>\n      <td>9.976011</td>\n      <td>2.293352</td>\n      <td>99.673749</td>\n      <td>3.397533</td>\n      <td>3.087731</td>\n      <td>4.281014</td>\n      <td>3.556546</td>\n      <td>2.994517</td>\n      <td>3.382454</td>\n      <td>4.537354</td>\n      <td>438.902673</td>\n      <td>2.300206</td>\n      <td>52.583276</td>\n      <td>553.915010</td>\n      <td>1045.400960</td>\n      <td>4.009596</td>\n      <td>4.158328</td>\n      <td>0.930775</td>\n      <td>4.874572</td>\n      <td>1156.534613</td>\n      <td>325.967786</td>\n      <td>3.543523</td>\n      <td>1486.045922</td>\n      <td>0.433859</td>\n      <td>0.065113</td>\n      <td>1.570939</td>\n      <td>0.377656</td>\n      <td>2.854010</td>\n      <td>1.042495</td>\n      <td>3.509938</td>\n      <td>6.385195</td>\n      <td>7.854695</td>\n      <td>0.58122</td>\n      <td>3.211789</td>\n      <td>3.747772</td>\n      <td>0.763591</td>\n      <td>2.716244</td>\n      <td>1.764907</td>\n      <td>472.444825</td>\n      <td>2.952022</td>\n      <td>2.969157</td>\n      <td>2.805346</td>\n      <td>93.174777</td>\n      <td>48.313914</td>\n      <td>24.243317</td>\n      <td>1.794380</td>\n      <td>17.064428</td>\n      <td>1.744345</td>\n      <td>1.007539</td>\n      <td>1.595613</td>\n      <td>0.034955</td>\n      <td>58.167923</td>\n      <td>6.104181</td>\n      <td>2007.769705</td>\n      <td>1.526388</td>\n      <td>1.579164</td>\n      <td>25.442084</td>\n    </tr>\n    <tr>\n      <td>std</td>\n      <td>421.321334</td>\n      <td>42.746880</td>\n      <td>0.891970</td>\n      <td>32.266054</td>\n      <td>4955.517327</td>\n      <td>0.064018</td>\n      <td>0.269956</td>\n      <td>0.557864</td>\n      <td>0.586487</td>\n      <td>0.0</td>\n      <td>1.382554</td>\n      <td>0.217566</td>\n      <td>6.829239</td>\n      <td>0.991927</td>\n      <td>0.241428</td>\n      <td>0.718028</td>\n      <td>1.955070</td>\n      <td>1.436812</td>\n      <td>1.113740</td>\n      <td>0.220218</td>\n      <td>0.153119</td>\n      <td>0.806605</td>\n      <td>0.333766</td>\n      <td>4.571004</td>\n      <td>4.536558</td>\n      <td>1.798194</td>\n      <td>177.001792</td>\n      <td>0.586444</td>\n      <td>0.392637</td>\n      <td>1.621356</td>\n      <td>0.712463</td>\n      <td>0.296246</td>\n      <td>1.072985</td>\n      <td>2.120627</td>\n      <td>455.257119</td>\n      <td>1.013797</td>\n      <td>176.698671</td>\n      <td>437.351324</td>\n      <td>443.592976</td>\n      <td>0.195746</td>\n      <td>0.956684</td>\n      <td>0.253924</td>\n      <td>0.495554</td>\n      <td>398.165820</td>\n      <td>420.610226</td>\n      <td>44.043251</td>\n      <td>485.566099</td>\n      <td>0.530527</td>\n      <td>0.252307</td>\n      <td>0.555190</td>\n      <td>0.503017</td>\n      <td>0.829788</td>\n      <td>0.208472</td>\n      <td>0.660780</td>\n      <td>1.508895</td>\n      <td>0.610379</td>\n      <td>0.64742</td>\n      <td>0.596950</td>\n      <td>1.037427</td>\n      <td>0.185530</td>\n      <td>0.902110</td>\n      <td>0.777056</td>\n      <td>217.326902</td>\n      <td>0.249336</td>\n      <td>0.227728</td>\n      <td>0.574204</td>\n      <td>127.744882</td>\n      <td>68.883364</td>\n      <td>67.227765</td>\n      <td>20.207842</td>\n      <td>56.609763</td>\n      <td>30.491646</td>\n      <td>0.167523</td>\n      <td>1.230447</td>\n      <td>0.183730</td>\n      <td>630.806978</td>\n      <td>2.722432</td>\n      <td>1.301740</td>\n      <td>1.470266</td>\n      <td>1.471169</td>\n      <td>6.918587</td>\n    </tr>\n    <tr>\n      <td>min</td>\n      <td>1461.000000</td>\n      <td>20.000000</td>\n      <td>2.000000</td>\n      <td>0.000000</td>\n      <td>1470.000000</td>\n      <td>1.000000</td>\n      <td>1.000000</td>\n      <td>1.000000</td>\n      <td>1.000000</td>\n      <td>4.0</td>\n      <td>1.000000</td>\n      <td>1.000000</td>\n      <td>1.000000</td>\n      <td>1.000000</td>\n      <td>1.000000</td>\n      <td>1.000000</td>\n      <td>1.000000</td>\n      <td>1.000000</td>\n      <td>1.000000</td>\n      <td>0.050725</td>\n      <td>0.565217</td>\n      <td>1.000000</td>\n      <td>2.000000</td>\n      <td>1.000000</td>\n      <td>1.000000</td>\n      <td>1.000000</td>\n      <td>0.000000</td>\n      <td>2.000000</td>\n      <td>1.000000</td>\n      <td>1.000000</td>\n      <td>2.000000</td>\n      <td>1.000000</td>\n      <td>1.000000</td>\n      <td>1.000000</td>\n      <td>0.000000</td>\n      <td>1.000000</td>\n      <td>0.000000</td>\n      <td>0.000000</td>\n      <td>0.000000</td>\n      <td>1.000000</td>\n      <td>1.000000</td>\n      <td>0.000000</td>\n      <td>1.000000</td>\n      <td>407.000000</td>\n      <td>0.000000</td>\n      <td>0.000000</td>\n      <td>407.000000</td>\n      <td>0.000000</td>\n      <td>0.000000</td>\n      <td>0.000000</td>\n      <td>0.000000</td>\n      <td>0.000000</td>\n      <td>0.000000</td>\n      <td>2.000000</td>\n      <td>3.000000</td>\n      <td>2.000000</td>\n      <td>0.00000</td>\n      <td>1.000000</td>\n      <td>1.000000</td>\n      <td>0.166667</td>\n      <td>1.000000</td>\n      <td>0.000000</td>\n      <td>0.000000</td>\n      <td>1.000000</td>\n      <td>1.000000</td>\n      <td>1.000000</td>\n      <td>0.000000</td>\n      <td>0.000000</td>\n      <td>0.000000</td>\n      <td>0.000000</td>\n      <td>0.000000</td>\n      <td>0.000000</td>\n      <td>1.000000</td>\n      <td>1.000000</td>\n      <td>0.000000</td>\n      <td>0.000000</td>\n      <td>1.000000</td>\n      <td>2006.000000</td>\n      <td>1.000000</td>\n      <td>1.000000</td>\n      <td>10.000000</td>\n    </tr>\n    <tr>\n      <td>25%</td>\n      <td>1825.500000</td>\n      <td>20.000000</td>\n      <td>6.000000</td>\n      <td>44.000000</td>\n      <td>7391.000000</td>\n      <td>2.000000</td>\n      <td>2.000000</td>\n      <td>3.000000</td>\n      <td>4.000000</td>\n      <td>4.0</td>\n      <td>3.000000</td>\n      <td>3.000000</td>\n      <td>7.000000</td>\n      <td>3.000000</td>\n      <td>3.000000</td>\n      <td>3.000000</td>\n      <td>1.000000</td>\n      <td>5.000000</td>\n      <td>5.000000</td>\n      <td>0.586957</td>\n      <td>0.659420</td>\n      <td>2.000000</td>\n      <td>7.000000</td>\n      <td>7.000000</td>\n      <td>7.000000</td>\n      <td>1.000000</td>\n      <td>0.000000</td>\n      <td>3.000000</td>\n      <td>3.000000</td>\n      <td>3.000000</td>\n      <td>3.000000</td>\n      <td>3.000000</td>\n      <td>3.000000</td>\n      <td>2.000000</td>\n      <td>0.000000</td>\n      <td>2.000000</td>\n      <td>0.000000</td>\n      <td>219.000000</td>\n      <td>784.000000</td>\n      <td>4.000000</td>\n      <td>3.000000</td>\n      <td>1.000000</td>\n      <td>5.000000</td>\n      <td>873.500000</td>\n      <td>0.000000</td>\n      <td>0.000000</td>\n      <td>1117.500000</td>\n      <td>0.000000</td>\n      <td>0.000000</td>\n      <td>1.000000</td>\n      <td>0.000000</td>\n      <td>2.000000</td>\n      <td>1.000000</td>\n      <td>3.000000</td>\n      <td>5.000000</td>\n      <td>8.000000</td>\n      <td>0.00000</td>\n      <td>3.000000</td>\n      <td>3.000000</td>\n      <td>0.630435</td>\n      <td>2.000000</td>\n      <td>1.000000</td>\n      <td>317.500000</td>\n      <td>3.000000</td>\n      <td>3.000000</td>\n      <td>3.000000</td>\n      <td>0.000000</td>\n      <td>0.000000</td>\n      <td>0.000000</td>\n      <td>0.000000</td>\n      <td>0.000000</td>\n      <td>0.000000</td>\n      <td>1.000000</td>\n      <td>1.000000</td>\n      <td>0.000000</td>\n      <td>0.000000</td>\n      <td>4.000000</td>\n      <td>2007.000000</td>\n      <td>1.000000</td>\n      <td>1.000000</td>\n      <td>20.000000</td>\n    </tr>\n    <tr>\n      <td>50%</td>\n      <td>2190.000000</td>\n      <td>50.000000</td>\n      <td>6.000000</td>\n      <td>63.000000</td>\n      <td>9399.000000</td>\n      <td>2.000000</td>\n      <td>2.000000</td>\n      <td>4.000000</td>\n      <td>4.000000</td>\n      <td>4.0</td>\n      <td>5.000000</td>\n      <td>3.000000</td>\n      <td>12.000000</td>\n      <td>3.000000</td>\n      <td>3.000000</td>\n      <td>3.000000</td>\n      <td>1.000000</td>\n      <td>6.000000</td>\n      <td>5.000000</td>\n      <td>0.731884</td>\n      <td>0.869565</td>\n      <td>2.000000</td>\n      <td>7.000000</td>\n      <td>13.000000</td>\n      <td>13.000000</td>\n      <td>1.000000</td>\n      <td>0.000000</td>\n      <td>3.000000</td>\n      <td>3.000000</td>\n      <td>3.000000</td>\n      <td>3.000000</td>\n      <td>3.000000</td>\n      <td>4.000000</td>\n      <td>5.000000</td>\n      <td>350.000000</td>\n      <td>2.000000</td>\n      <td>0.000000</td>\n      <td>460.000000</td>\n      <td>988.000000</td>\n      <td>4.000000</td>\n      <td>5.000000</td>\n      <td>1.000000</td>\n      <td>5.000000</td>\n      <td>1079.000000</td>\n      <td>0.000000</td>\n      <td>0.000000</td>\n      <td>1432.000000</td>\n      <td>0.000000</td>\n      <td>0.000000</td>\n      <td>2.000000</td>\n      <td>0.000000</td>\n      <td>3.000000</td>\n      <td>1.000000</td>\n      <td>3.000000</td>\n      <td>6.000000</td>\n      <td>8.000000</td>\n      <td>0.00000</td>\n      <td>3.000000</td>\n      <td>4.000000</td>\n      <td>0.768116</td>\n      <td>3.000000</td>\n      <td>2.000000</td>\n      <td>480.000000</td>\n      <td>3.000000</td>\n      <td>3.000000</td>\n      <td>3.000000</td>\n      <td>0.000000</td>\n      <td>28.000000</td>\n      <td>0.000000</td>\n      <td>0.000000</td>\n      <td>0.000000</td>\n      <td>0.000000</td>\n      <td>1.000000</td>\n      <td>1.000000</td>\n      <td>0.000000</td>\n      <td>0.000000</td>\n      <td>6.000000</td>\n      <td>2008.000000</td>\n      <td>1.000000</td>\n      <td>1.000000</td>\n      <td>30.000000</td>\n    </tr>\n    <tr>\n      <td>75%</td>\n      <td>2554.500000</td>\n      <td>70.000000</td>\n      <td>6.000000</td>\n      <td>78.000000</td>\n      <td>11517.500000</td>\n      <td>2.000000</td>\n      <td>2.000000</td>\n      <td>4.000000</td>\n      <td>4.000000</td>\n      <td>4.0</td>\n      <td>5.000000</td>\n      <td>3.000000</td>\n      <td>17.000000</td>\n      <td>3.000000</td>\n      <td>3.000000</td>\n      <td>3.000000</td>\n      <td>4.000000</td>\n      <td>7.000000</td>\n      <td>6.000000</td>\n      <td>0.934783</td>\n      <td>0.956522</td>\n      <td>2.000000</td>\n      <td>7.000000</td>\n      <td>13.000000</td>\n      <td>13.000000</td>\n      <td>5.000000</td>\n      <td>162.000000</td>\n      <td>4.000000</td>\n      <td>3.000000</td>\n      <td>6.000000</td>\n      <td>4.000000</td>\n      <td>3.000000</td>\n      <td>4.000000</td>\n      <td>7.000000</td>\n      <td>752.000000</td>\n      <td>2.000000</td>\n      <td>0.000000</td>\n      <td>797.500000</td>\n      <td>1304.000000</td>\n      <td>4.000000</td>\n      <td>5.000000</td>\n      <td>1.000000</td>\n      <td>5.000000</td>\n      <td>1382.500000</td>\n      <td>676.000000</td>\n      <td>0.000000</td>\n      <td>1721.000000</td>\n      <td>1.000000</td>\n      <td>0.000000</td>\n      <td>2.000000</td>\n      <td>1.000000</td>\n      <td>3.000000</td>\n      <td>1.000000</td>\n      <td>4.000000</td>\n      <td>7.000000</td>\n      <td>8.000000</td>\n      <td>1.00000</td>\n      <td>4.000000</td>\n      <td>4.000000</td>\n      <td>0.942029</td>\n      <td>4.000000</td>\n      <td>2.000000</td>\n      <td>576.000000</td>\n      <td>3.000000</td>\n      <td>3.000000</td>\n      <td>3.000000</td>\n      <td>168.000000</td>\n      <td>72.000000</td>\n      <td>0.000000</td>\n      <td>0.000000</td>\n      <td>0.000000</td>\n      <td>0.000000</td>\n      <td>1.000000</td>\n      <td>1.000000</td>\n      <td>0.000000</td>\n      <td>0.000000</td>\n      <td>8.000000</td>\n      <td>2009.000000</td>\n      <td>1.000000</td>\n      <td>1.000000</td>\n      <td>30.000000</td>\n    </tr>\n    <tr>\n      <td>max</td>\n      <td>2919.000000</td>\n      <td>190.000000</td>\n      <td>7.000000</td>\n      <td>200.000000</td>\n      <td>56600.000000</td>\n      <td>2.000000</td>\n      <td>3.000000</td>\n      <td>4.000000</td>\n      <td>4.000000</td>\n      <td>4.0</td>\n      <td>5.000000</td>\n      <td>3.000000</td>\n      <td>25.000000</td>\n      <td>9.000000</td>\n      <td>7.000000</td>\n      <td>5.000000</td>\n      <td>8.000000</td>\n      <td>10.000000</td>\n      <td>9.000000</td>\n      <td>1.000000</td>\n      <td>1.000000</td>\n      <td>6.000000</td>\n      <td>7.000000</td>\n      <td>17.000000</td>\n      <td>17.000000</td>\n      <td>5.000000</td>\n      <td>1290.000000</td>\n      <td>5.000000</td>\n      <td>5.000000</td>\n      <td>6.000000</td>\n      <td>5.000000</td>\n      <td>4.000000</td>\n      <td>5.000000</td>\n      <td>7.000000</td>\n      <td>4010.000000</td>\n      <td>7.000000</td>\n      <td>1526.000000</td>\n      <td>2140.000000</td>\n      <td>5095.000000</td>\n      <td>6.000000</td>\n      <td>5.000000</td>\n      <td>1.000000</td>\n      <td>5.000000</td>\n      <td>5095.000000</td>\n      <td>1862.000000</td>\n      <td>1064.000000</td>\n      <td>5095.000000</td>\n      <td>3.000000</td>\n      <td>2.000000</td>\n      <td>4.000000</td>\n      <td>2.000000</td>\n      <td>6.000000</td>\n      <td>2.000000</td>\n      <td>5.000000</td>\n      <td>15.000000</td>\n      <td>8.000000</td>\n      <td>4.00000</td>\n      <td>5.000000</td>\n      <td>7.000000</td>\n      <td>1.000000</td>\n      <td>4.000000</td>\n      <td>5.000000</td>\n      <td>1488.000000</td>\n      <td>4.000000</td>\n      <td>5.000000</td>\n      <td>3.000000</td>\n      <td>1424.000000</td>\n      <td>742.000000</td>\n      <td>1012.000000</td>\n      <td>360.000000</td>\n      <td>576.000000</td>\n      <td>800.000000</td>\n      <td>5.000000</td>\n      <td>5.000000</td>\n      <td>1.000000</td>\n      <td>17000.000000</td>\n      <td>12.000000</td>\n      <td>2010.000000</td>\n      <td>10.000000</td>\n      <td>6.000000</td>\n      <td>30.000000</td>\n    </tr>\n  </tbody>\n</table>\n</div>"
     },
     "metadata": {},
     "execution_count": 55
    }
   ],
   "source": [
    "x_test.describe()"
   ]
  },
  {
   "cell_type": "code",
   "execution_count": 62,
   "metadata": {},
   "outputs": [],
   "source": [
    "#col_mask=x_test.isnull().any(axis=0) \n",
    "#row_mask=x_test.isnull().any(axis=1)\n",
    "#x_test.loc[row_mask,col_mask]k"
   ]
  },
  {
   "cell_type": "code",
   "execution_count": 57,
   "metadata": {},
   "outputs": [],
   "source": [
    "# Perform train, test, split\n",
    "x_train, x_validation, y_train, y_validation = train_test_split(x, y, test_size=0.2)\n",
    "\n",
    "#df_result_x = pd.DataFrame()\n",
    "df_result_x_test = pd.DataFrame(data={'Id': df_test['Id'], 'SalePrice': 0})"
   ]
  },
  {
   "cell_type": "code",
   "execution_count": 58,
   "metadata": {},
   "outputs": [],
   "source": [
    "#df_result_x_test"
   ]
  },
  {
   "cell_type": "code",
   "execution_count": 59,
   "metadata": {},
   "outputs": [
    {
     "output_type": "stream",
     "name": "stdout",
     "text": [
      "0.8546513302299094\n"
     ]
    }
   ],
   "source": [
    "model = RandomForestRegressor(random_state=33)\n",
    "model.fit(x_train, y_train)\n",
    "score = model.score(x_validation, y_validation)\n",
    "print(score)"
   ]
  },
  {
   "cell_type": "code",
   "execution_count": 60,
   "metadata": {},
   "outputs": [
    {
     "output_type": "stream",
     "name": "stdout",
     "text": [
      "[132665.  156492.5 176873.7 ... 154493.7 122230.  199200. ]\n"
     ]
    }
   ],
   "source": [
    "model.fit(x, y)\n",
    "\n",
    "df_result_x_test['SalePrice'] = model.predict(x_test)"
   ]
  },
  {
   "cell_type": "code",
   "execution_count": 61,
   "metadata": {},
   "outputs": [],
   "source": [
    "\n",
    "df_result_x_test['SalePrice'] = df_result_x_test['SalePrice'].astype(np.int64, copy=False)\n",
    "df_result_x_test.to_csv('rf_submission.csv', index=False)"
   ]
  }
 ]
}